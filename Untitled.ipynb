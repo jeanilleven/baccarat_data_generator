{
 "cells": [
  {
   "cell_type": "code",
   "execution_count": 18,
   "id": "catholic-persian",
   "metadata": {},
   "outputs": [
    {
     "name": "stdout",
     "output_type": "stream",
     "text": [
      "12/06/2020 02:35 PM\n"
     ]
    }
   ],
   "source": [
    "import random\n",
    "import time\n",
    " \n",
    " \n",
    "def str_time_prop(start, end, time_format, prop):\n",
    "    stime = time.mktime(time.strptime(start, time_format))\n",
    "    etime = time.mktime(time.strptime(end, time_format))\n",
    "    ptime = stime + prop * (etime - stime)\n",
    "    return time.strftime(time_format, time.localtime(ptime))\n",
    " \n",
    " \n",
    "def random_date(start, end, prop):\n",
    "    return str_time_prop(start, end, '%m/%d/%Y %I:%M %p', prop)\n",
    " \n",
    " \n"
   ]
  },
  {
   "cell_type": "code",
   "execution_count": 20,
   "id": "abstract-strain",
   "metadata": {},
   "outputs": [
    {
     "name": "stdout",
     "output_type": "stream",
     "text": [
      "07/28/2021 12:10 PM\n",
      "08/05/2021 08:56 AM\n",
      "08/19/2021 03:20 PM\n",
      "08/23/2021 04:20 PM\n",
      "08/05/2021 12:08 PM\n"
     ]
    }
   ],
   "source": [
    "for i in range(5):\n",
    "    print(random_date(\"7/25/2021 12:00 AM\", \"8/25/2021 12:00 AM\", random.random()))"
   ]
  },
  {
   "cell_type": "code",
   "execution_count": null,
   "id": "identical-venue",
   "metadata": {},
   "outputs": [],
   "source": []
  }
 ],
 "metadata": {
  "kernelspec": {
   "display_name": "Python 3",
   "language": "python",
   "name": "python3"
  },
  "language_info": {
   "codemirror_mode": {
    "name": "ipython",
    "version": 3
   },
   "file_extension": ".py",
   "mimetype": "text/x-python",
   "name": "python",
   "nbconvert_exporter": "python",
   "pygments_lexer": "ipython3",
   "version": "3.9.2"
  }
 },
 "nbformat": 4,
 "nbformat_minor": 5
}
